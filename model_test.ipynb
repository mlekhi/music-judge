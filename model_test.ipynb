{
 "cells": [
  {
   "cell_type": "code",
   "execution_count": 1,
   "id": "31d739d7-e873-45e6-b379-b9492467b744",
   "metadata": {},
   "outputs": [],
   "source": [
    "import pandas as pd\n",
    "from sklearn.metrics import mean_absolute_error, mean_squared_error, r2_score\n",
    "import joblib"
   ]
  },
  {
   "cell_type": "code",
   "execution_count": 2,
   "id": "ab86c16b-0836-4d14-964e-426372f53e0a",
   "metadata": {},
   "outputs": [],
   "source": [
    "test_data = pd.read_csv('data/testing_data.csv')"
   ]
  },
  {
   "cell_type": "code",
   "execution_count": 3,
   "id": "55e6f065-7284-4988-a84a-9986ab3b8250",
   "metadata": {},
   "outputs": [],
   "source": [
    "X_test = test_data.drop('taste', axis=1)\n",
    "y_test = test_data['taste']"
   ]
  },
  {
   "cell_type": "code",
   "execution_count": 4,
   "id": "b8c91ec3-df86-4180-aad9-93e1da1c1637",
   "metadata": {},
   "outputs": [],
   "source": [
    "model = joblib.load('taste_model.pkl')"
   ]
  },
  {
   "cell_type": "code",
   "execution_count": 5,
   "id": "fdba477f-7911-49e6-b3fe-9be41ed09f0f",
   "metadata": {},
   "outputs": [],
   "source": [
    "y_pred = model.predict(X_test)"
   ]
  },
  {
   "cell_type": "code",
   "execution_count": 6,
   "id": "36821de6-372d-4e27-b761-2a9e90dbfa16",
   "metadata": {},
   "outputs": [
    {
     "name": "stdout",
     "output_type": "stream",
     "text": [
      "MAE: 1.20\n",
      "MSE: 2.34\n",
      "RMSE: 1.53\n",
      "R²: 0.62\n"
     ]
    }
   ],
   "source": [
    "# Mean Absolute Error (MAE)\n",
    "mae = mean_absolute_error(y_test, y_pred)\n",
    "\n",
    "# Mean Squared Error (MSE)\n",
    "mse = mean_squared_error(y_test, y_pred)\n",
    "\n",
    "# Root Mean Squared Error (RMSE)\n",
    "rmse = mean_squared_error(y_test, y_pred, squared=False)\n",
    "\n",
    "# R-squared (R²)\n",
    "r2 = r2_score(y_test, y_pred)\n",
    "\n",
    "print(f'MAE: {mae:.2f}')\n",
    "print(f'MSE: {mse:.2f}')\n",
    "print(f'RMSE: {rmse:.2f}')\n",
    "print(f'R²: {r2:.2f}')"
   ]
  }
 ],
 "metadata": {
  "kernelspec": {
   "display_name": "Python 3 (ipykernel)",
   "language": "python",
   "name": "python3"
  },
  "language_info": {
   "codemirror_mode": {
    "name": "ipython",
    "version": 3
   },
   "file_extension": ".py",
   "mimetype": "text/x-python",
   "name": "python",
   "nbconvert_exporter": "python",
   "pygments_lexer": "ipython3",
   "version": "3.10.11"
  }
 },
 "nbformat": 4,
 "nbformat_minor": 5
}
