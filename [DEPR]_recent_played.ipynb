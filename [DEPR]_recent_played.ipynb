{
 "cells": [
  {
   "cell_type": "code",
   "execution_count": 1,
   "id": "9f028ae8-8ed7-4721-b15d-2120ea3f096d",
   "metadata": {},
   "outputs": [],
   "source": [
    "import spotipy\n",
    "from spotipy.oauth2 import SpotifyOAuth\n",
    "import pandas as pd"
   ]
  },
  {
   "cell_type": "code",
   "execution_count": 2,
   "id": "9ef32f9f-587e-4b3e-b5fa-922818a7c072",
   "metadata": {},
   "outputs": [],
   "source": [
    "client_id = '514cc70f222d43fca53673e32b5e8e24'\n",
    "client_secret = '2d82619557ce4d6db3e2caba753a927d'\n",
    "redirect_uri = 'http://localhost:8080/callback'\n",
    "scope = 'user-library-read user-read-recently-played'"
   ]
  },
  {
   "cell_type": "code",
   "execution_count": 3,
   "id": "a97ac1ca-cb01-4f85-935e-eb235b27e697",
   "metadata": {},
   "outputs": [],
   "source": [
    "sp = spotipy.Spotify(auth_manager=SpotifyOAuth(client_id=client_id,\n",
    "                                               client_secret=client_secret,\n",
    "                                               redirect_uri=redirect_uri,\n",
    "                                               scope=scope, open_browser=False))"
   ]
  },
  {
   "cell_type": "code",
   "execution_count": 10,
   "id": "2a7c6630-7ec5-4efb-878d-36fb27a32c64",
   "metadata": {},
   "outputs": [],
   "source": [
    "results = sp.current_user_recently_played(limit=50)  # You can adjust the limit as needed"
   ]
  },
  {
   "cell_type": "code",
   "execution_count": 5,
   "id": "53b7247b-4ca9-49d4-9e00-9aece78818f9",
   "metadata": {},
   "outputs": [],
   "source": [
    "tracks = results['items']\n",
    "track_ids = [track['track']['id'] for track in tracks]\n",
    "played_at = [track['played_at'] for track in tracks]\n",
    "\n",
    "# Fetch audio features for each track\n",
    "features = sp.audio_features(track_ids)"
   ]
  },
  {
   "cell_type": "code",
   "execution_count": 6,
   "id": "a84005b8-ca16-41a7-b479-0e7f9aa0517e",
   "metadata": {},
   "outputs": [],
   "source": [
    "df_tracks = pd.DataFrame(features)\n",
    "df_tracks['played_at'] = pd.to_datetime(played_at)"
   ]
  },
  {
   "cell_type": "code",
   "execution_count": 7,
   "id": "a5c2ec53-80cf-498b-ab02-fbef2f8ebf52",
   "metadata": {},
   "outputs": [],
   "source": [
    "df_tracks['sadness'] = 1 - df_tracks['valence']\n",
    "df_tracks['date'] = df_tracks['played_at'].dt.date\n",
    "daily_sadness = df_tracks.groupby('date').agg({'sadness': 'mean'}).reset_index()"
   ]
  },
  {
   "cell_type": "code",
   "execution_count": 8,
   "id": "a485d266-e90d-4180-a464-487a60fa2328",
   "metadata": {},
   "outputs": [],
   "source": [
    "# Select features and target\n",
    "features = df_tracks[['danceability', 'energy', 'tempo', 'loudness', 'speechiness', 'acousticness', 'instrumentalness', 'liveness', 'valence']]\n",
    "target = df_tracks['sadness']"
   ]
  },
  {
   "cell_type": "code",
   "execution_count": 9,
   "id": "784de601-179e-4895-8976-e070d9227e7a",
   "metadata": {},
   "outputs": [],
   "source": [
    "df_tracks.to_csv('music.csv', index=False)"
   ]
  }
 ],
 "metadata": {
  "kernelspec": {
   "display_name": "Python 3 (ipykernel)",
   "language": "python",
   "name": "python3"
  },
  "language_info": {
   "codemirror_mode": {
    "name": "ipython",
    "version": 3
   },
   "file_extension": ".py",
   "mimetype": "text/x-python",
   "name": "python",
   "nbconvert_exporter": "python",
   "pygments_lexer": "ipython3",
   "version": "3.10.11"
  }
 },
 "nbformat": 4,
 "nbformat_minor": 5
}
