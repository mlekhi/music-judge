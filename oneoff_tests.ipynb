{
 "cells": [
  {
   "cell_type": "code",
   "execution_count": 1,
   "id": "faf6ed22-bb1c-4844-8923-6d838d97f223",
   "metadata": {},
   "outputs": [],
   "source": [
    "import spotipy\n",
    "from spotipy.oauth2 import SpotifyOAuth\n",
    "import pandas as pd\n",
    "import random\n",
    "import os"
   ]
  },
  {
   "cell_type": "code",
   "execution_count": 2,
   "id": "440c694d-5dd3-474b-9984-ddc442693812",
   "metadata": {},
   "outputs": [],
   "source": [
    "client_id = '514cc70f222d43fca53673e32b5e8e24'\n",
    "client_secret = '2d82619557ce4d6db3e2caba753a927d'\n",
    "redirect_uri = 'http://localhost:8080/callback'\n",
    "scope = 'user-library-read'"
   ]
  },
  {
   "cell_type": "code",
   "execution_count": 3,
   "id": "17afc42c-7b27-415e-9611-79c2fa20adf5",
   "metadata": {},
   "outputs": [],
   "source": [
    "sp = spotipy.Spotify(auth_manager=SpotifyOAuth(client_id=client_id,\n",
    "                                               client_secret=client_secret,\n",
    "                                               redirect_uri=redirect_uri,\n",
    "                                               scope=scope, open_browser=False))"
   ]
  },
  {
   "cell_type": "code",
   "execution_count": 4,
   "id": "1f6441da-adf3-44b2-b7c3-fa62c040ee2b",
   "metadata": {},
   "outputs": [],
   "source": [
    "features_list = ['danceability', 'energy', 'tempo', 'loudness', 'speechiness', \n",
    "                 'acousticness', 'instrumentalness', 'liveness', 'valence']"
   ]
  },
  {
   "cell_type": "code",
   "execution_count": 5,
   "id": "2f60ca59-c373-45cd-9256-bafe1f35de43",
   "metadata": {},
   "outputs": [],
   "source": [
    "track_name = \"cbat\"\n",
    "track_artist = \"hudson mohawke\"\n",
    "query = f\"track:{track_name} artist:{track_artist}\"\n",
    "result = sp.search(q=query, type='track', limit=1)\n",
    "track = result['tracks']['items'][0]"
   ]
  },
  {
   "cell_type": "code",
   "execution_count": 6,
   "id": "7cad5dc6-47c9-4afb-80ec-2b5ab6c1ed56",
   "metadata": {},
   "outputs": [],
   "source": [
    "track_uri = track['uri']\n",
    "track_name = track['name']\n",
    "track_artist = track['artists'][0]['name']"
   ]
  },
  {
   "cell_type": "code",
   "execution_count": 7,
   "id": "6cbbc1ea-54f6-4490-8131-9f57accd65fa",
   "metadata": {},
   "outputs": [
    {
     "name": "stdout",
     "output_type": "stream",
     "text": [
      "Track Name: Cbat\n",
      "Artist: Hudson Mohawke\n",
      "Audio Features: [0.58, 0.52, 159.728, -5.999, 0.421, 0.0042, 0.827, 0.0904, 0.0582]\n"
     ]
    }
   ],
   "source": [
    "audio_features = sp.audio_features(track_uri)[0]\n",
    "\n",
    "# Print track details and features\n",
    "print(f\"Track Name: {track_name}\")\n",
    "print(f\"Artist: {track_artist}\")\n",
    "features = [audio_features[feature] for feature in features_list]\n",
    "print(f\"Audio Features: {features}\")"
   ]
  },
  {
   "cell_type": "code",
   "execution_count": 8,
   "id": "9c0d97c6-0400-438a-8bc8-ca39fb551138",
   "metadata": {},
   "outputs": [],
   "source": [
    "import joblib\n",
    "import numpy as np"
   ]
  },
  {
   "cell_type": "code",
   "execution_count": 9,
   "id": "eb5cebd3-015c-4a1c-9a7d-a3858f3475ba",
   "metadata": {},
   "outputs": [],
   "source": [
    "model = joblib.load('taste_model.pkl')"
   ]
  },
  {
   "cell_type": "code",
   "execution_count": 10,
   "id": "09edac3c-c40c-450c-9066-83fee8f96b1a",
   "metadata": {},
   "outputs": [
    {
     "name": "stdout",
     "output_type": "stream",
     "text": [
      "Predicted Score: 6.38\n"
     ]
    },
    {
     "name": "stderr",
     "output_type": "stream",
     "text": [
      "C:\\Users\\mayal\\AppData\\Local\\Packages\\PythonSoftwareFoundation.Python.3.10_qbz5n2kfra8p0\\LocalCache\\local-packages\\Python310\\site-packages\\sklearn\\base.py:465: UserWarning: X does not have valid feature names, but RandomForestRegressor was fitted with feature names\n",
      "  warnings.warn(\n"
     ]
    }
   ],
   "source": [
    "# Reshape the features to match the model's input shape\n",
    "X_test = np.array(features).reshape(1, -1)\n",
    "\n",
    "# Predict the score for the individual song\n",
    "y_pred = model.predict(X_test)\n",
    "\n",
    "# Print the predicted score\n",
    "print(f'Predicted Score: {y_pred[0]:.2f}')"
   ]
  }
 ],
 "metadata": {
  "kernelspec": {
   "display_name": "Python 3 (ipykernel)",
   "language": "python",
   "name": "python3"
  },
  "language_info": {
   "codemirror_mode": {
    "name": "ipython",
    "version": 3
   },
   "file_extension": ".py",
   "mimetype": "text/x-python",
   "name": "python",
   "nbconvert_exporter": "python",
   "pygments_lexer": "ipython3",
   "version": "3.10.11"
  }
 },
 "nbformat": 4,
 "nbformat_minor": 5
}
