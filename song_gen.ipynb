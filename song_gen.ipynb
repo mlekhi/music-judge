{
 "cells": [
  {
   "cell_type": "code",
   "execution_count": 1,
   "id": "1b7ba9ce-6585-403c-868c-29098fe39567",
   "metadata": {},
   "outputs": [],
   "source": [
    "import spotipy\n",
    "from spotipy.oauth2 import SpotifyOAuth\n",
    "import pandas as pd\n",
    "import random\n",
    "import os"
   ]
  },
  {
   "cell_type": "code",
   "execution_count": 2,
   "id": "15eed9df-03ed-44dc-9f0e-c59669c54d42",
   "metadata": {},
   "outputs": [],
   "source": [
    "client_id = '514cc70f222d43fca53673e32b5e8e24'\n",
    "client_secret = '2d82619557ce4d6db3e2caba753a927d'\n",
    "redirect_uri = 'http://localhost:8080/callback'\n",
    "scope = 'user-library-read'"
   ]
  },
  {
   "cell_type": "code",
   "execution_count": 3,
   "id": "b114ec69-6fb3-4858-97d6-94d7f4eed411",
   "metadata": {},
   "outputs": [],
   "source": [
    "sp = spotipy.Spotify(auth_manager=SpotifyOAuth(client_id=client_id,\n",
    "                                               client_secret=client_secret,\n",
    "                                               redirect_uri=redirect_uri,\n",
    "                                               scope=scope, open_browser=False))"
   ]
  },
  {
   "cell_type": "code",
   "execution_count": 4,
   "id": "e3b29b4f-2724-4716-a358-806ec6929b3f",
   "metadata": {},
   "outputs": [],
   "source": [
    "features_list = ['danceability', 'energy', 'tempo', 'loudness', 'speechiness', \n",
    "                 'acousticness', 'instrumentalness', 'liveness', 'valence']"
   ]
  },
  {
   "cell_type": "code",
   "execution_count": 5,
   "id": "b91ed5cf-bcd4-4f56-80b1-21b61bf937e9",
   "metadata": {},
   "outputs": [],
   "source": [
    "track_name = \"best interest\"\n",
    "track_artist = \"tyler the creator\"\n",
    "query = f\"track:{track_name} artist:{track_artist}\"\n",
    "result = sp.search(q=query, type='track', limit=1)\n",
    "track = result['tracks']['items'][0]"
   ]
  },
  {
   "cell_type": "code",
   "execution_count": 6,
   "id": "a1cd3432-7858-4fdc-90fa-035cfb3f4f5d",
   "metadata": {},
   "outputs": [],
   "source": [
    "track_uri = track['uri']\n",
    "track_name = track['name']\n",
    "track_artist = track['artists'][0]['name']"
   ]
  },
  {
   "cell_type": "code",
   "execution_count": 7,
   "id": "0e6e121f-4b51-456b-869f-7f49264286df",
   "metadata": {},
   "outputs": [
    {
     "name": "stdout",
     "output_type": "stream",
     "text": [
      "Track Name: BEST INTEREST\n",
      "Artist: Tyler, The Creator\n",
      "Audio Features:\n",
      "0.596, 0.575, 98.265, -8.325, 0.0514, 0.0861, 0.000153, 0.334, 0.34\n"
     ]
    }
   ],
   "source": [
    "audio_features = sp.audio_features(track_uri)[0]\n",
    "\n",
    "# Print track details and features\n",
    "print(f\"Track Name: {track_name}\")\n",
    "print(f\"Artist: {track_artist}\")\n",
    "print(\"Audio Features:\")\n",
    "print(\", \".join([str(audio_features[feature]) for feature in features_list]))"
   ]
  },
  {
   "cell_type": "code",
   "execution_count": null,
   "id": "1c72b169-bbf3-4a29-b354-51278bb4759b",
   "metadata": {},
   "outputs": [],
   "source": []
  }
 ],
 "metadata": {
  "kernelspec": {
   "display_name": "Python 3 (ipykernel)",
   "language": "python",
   "name": "python3"
  },
  "language_info": {
   "codemirror_mode": {
    "name": "ipython",
    "version": 3
   },
   "file_extension": ".py",
   "mimetype": "text/x-python",
   "name": "python",
   "nbconvert_exporter": "python",
   "pygments_lexer": "ipython3",
   "version": "3.10.11"
  }
 },
 "nbformat": 4,
 "nbformat_minor": 5
}
